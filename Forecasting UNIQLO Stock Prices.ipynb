{
 "cells": [
  {
   "cell_type": "code",
   "execution_count": 5,
   "metadata": {},
   "outputs": [],
   "source": [
    "#  https://www.kaggle.com/daiearth22/uniqlo-fastretailing-stock-price-prediction"
   ]
  },
  {
   "cell_type": "code",
   "execution_count": 1003,
   "metadata": {},
   "outputs": [],
   "source": [
    "import warnings\n",
    "\n",
    "# Ignore warnings\n",
    "warnings.filterwarnings('ignore')"
   ]
  },
  {
   "cell_type": "code",
   "execution_count": 1013,
   "metadata": {},
   "outputs": [],
   "source": [
    "import matplotlib.pyplot as plt\n",
    "%matplotlib inline\n",
    "\n",
    "# Get the sizes\n",
    "plt.rc('font',  size=20)\n",
    "plt.rc('axes', titlesize=15)\n",
    "plt.rc('axes', labelsize=15)\n",
    "plt.rc('xtick', labelsize=10)\n",
    "plt.rc('ytick', labelsize=10)\n",
    "plt.rc('legend', fontsize=20)\n",
    "plt.rc('figure', titlesize=20)"
   ]
  },
  {
   "cell_type": "code",
   "execution_count": 1014,
   "metadata": {},
   "outputs": [],
   "source": [
    "import pandas as pd\n",
    "\n",
    "# Load the dataset\n",
    "df_raw = pd.read_csv('datasets_1840_3212_Uniqlo(FastRetailing) 2012-2016 Training - stocks2012-2016.csv',header=0)\n"
   ]
  },
  {
   "cell_type": "code",
   "execution_count": 1015,
   "metadata": {},
   "outputs": [
    {
     "data": {
      "text/html": [
       "<div>\n",
       "<style scoped>\n",
       "    .dataframe tbody tr th:only-of-type {\n",
       "        vertical-align: middle;\n",
       "    }\n",
       "\n",
       "    .dataframe tbody tr th {\n",
       "        vertical-align: top;\n",
       "    }\n",
       "\n",
       "    .dataframe thead th {\n",
       "        text-align: right;\n",
       "    }\n",
       "</style>\n",
       "<table border=\"1\" class=\"dataframe\">\n",
       "  <thead>\n",
       "    <tr style=\"text-align: right;\">\n",
       "      <th></th>\n",
       "      <th>Date</th>\n",
       "      <th>Open</th>\n",
       "      <th>High</th>\n",
       "      <th>Low</th>\n",
       "      <th>Close</th>\n",
       "      <th>Volume</th>\n",
       "      <th>Stock Trading</th>\n",
       "    </tr>\n",
       "  </thead>\n",
       "  <tbody>\n",
       "    <tr>\n",
       "      <th>0</th>\n",
       "      <td>2016-12-30</td>\n",
       "      <td>42120</td>\n",
       "      <td>42330</td>\n",
       "      <td>41700</td>\n",
       "      <td>41830</td>\n",
       "      <td>610000</td>\n",
       "      <td>25628028000</td>\n",
       "    </tr>\n",
       "    <tr>\n",
       "      <th>1</th>\n",
       "      <td>2016-12-29</td>\n",
       "      <td>43000</td>\n",
       "      <td>43220</td>\n",
       "      <td>42540</td>\n",
       "      <td>42660</td>\n",
       "      <td>448400</td>\n",
       "      <td>19188227000</td>\n",
       "    </tr>\n",
       "    <tr>\n",
       "      <th>2</th>\n",
       "      <td>2016-12-28</td>\n",
       "      <td>43940</td>\n",
       "      <td>43970</td>\n",
       "      <td>43270</td>\n",
       "      <td>43270</td>\n",
       "      <td>339900</td>\n",
       "      <td>14780670000</td>\n",
       "    </tr>\n",
       "    <tr>\n",
       "      <th>3</th>\n",
       "      <td>2016-12-27</td>\n",
       "      <td>43140</td>\n",
       "      <td>43700</td>\n",
       "      <td>43140</td>\n",
       "      <td>43620</td>\n",
       "      <td>400100</td>\n",
       "      <td>17427993000</td>\n",
       "    </tr>\n",
       "    <tr>\n",
       "      <th>4</th>\n",
       "      <td>2016-12-26</td>\n",
       "      <td>43310</td>\n",
       "      <td>43660</td>\n",
       "      <td>43090</td>\n",
       "      <td>43340</td>\n",
       "      <td>358200</td>\n",
       "      <td>15547803000</td>\n",
       "    </tr>\n",
       "  </tbody>\n",
       "</table>\n",
       "</div>"
      ],
      "text/plain": [
       "         Date   Open   High    Low  Close  Volume  Stock Trading\n",
       "0  2016-12-30  42120  42330  41700  41830  610000    25628028000\n",
       "1  2016-12-29  43000  43220  42540  42660  448400    19188227000\n",
       "2  2016-12-28  43940  43970  43270  43270  339900    14780670000\n",
       "3  2016-12-27  43140  43700  43140  43620  400100    17427993000\n",
       "4  2016-12-26  43310  43660  43090  43340  358200    15547803000"
      ]
     },
     "execution_count": 1015,
     "metadata": {},
     "output_type": "execute_result"
    }
   ],
   "source": [
    "df_raw.head(5)"
   ]
  },
  {
   "cell_type": "code",
   "execution_count": 1016,
   "metadata": {},
   "outputs": [
    {
     "name": "stdout",
     "output_type": "stream",
     "text": [
      "<class 'pandas.core.frame.DataFrame'>\n",
      "RangeIndex: 1226 entries, 0 to 1225\n",
      "Data columns (total 7 columns):\n",
      " #   Column         Non-Null Count  Dtype \n",
      "---  ------         --------------  ----- \n",
      " 0   Date           1226 non-null   object\n",
      " 1   Open           1226 non-null   int64 \n",
      " 2   High           1226 non-null   int64 \n",
      " 3   Low            1226 non-null   int64 \n",
      " 4   Close          1226 non-null   int64 \n",
      " 5   Volume         1226 non-null   int64 \n",
      " 6   Stock Trading  1226 non-null   int64 \n",
      "dtypes: int64(6), object(1)\n",
      "memory usage: 67.2+ KB\n"
     ]
    }
   ],
   "source": [
    "df_raw.info()"
   ]
  },
  {
   "cell_type": "code",
   "execution_count": 1017,
   "metadata": {},
   "outputs": [
    {
     "data": {
      "text/plain": [
       "Date             0\n",
       "Open             0\n",
       "High             0\n",
       "Low              0\n",
       "Close            0\n",
       "Volume           0\n",
       "Stock Trading    0\n",
       "dtype: int64"
      ]
     },
     "execution_count": 1017,
     "metadata": {},
     "output_type": "execute_result"
    }
   ],
   "source": [
    "df_raw.isna().sum()"
   ]
  },
  {
   "cell_type": "code",
   "execution_count": 1018,
   "metadata": {},
   "outputs": [
    {
     "data": {
      "text/plain": [
       "str"
      ]
     },
     "execution_count": 1018,
     "metadata": {},
     "output_type": "execute_result"
    }
   ],
   "source": [
    "type(df_raw['Date'][0])"
   ]
  },
  {
   "cell_type": "code",
   "execution_count": 1019,
   "metadata": {},
   "outputs": [
    {
     "data": {
      "text/html": [
       "<div>\n",
       "<style scoped>\n",
       "    .dataframe tbody tr th:only-of-type {\n",
       "        vertical-align: middle;\n",
       "    }\n",
       "\n",
       "    .dataframe tbody tr th {\n",
       "        vertical-align: top;\n",
       "    }\n",
       "\n",
       "    .dataframe thead th {\n",
       "        text-align: right;\n",
       "    }\n",
       "</style>\n",
       "<table border=\"1\" class=\"dataframe\">\n",
       "  <thead>\n",
       "    <tr style=\"text-align: right;\">\n",
       "      <th></th>\n",
       "      <th>index</th>\n",
       "      <th>Date</th>\n",
       "      <th>Open</th>\n",
       "      <th>High</th>\n",
       "      <th>Low</th>\n",
       "      <th>Close</th>\n",
       "      <th>Volume</th>\n",
       "      <th>Stock Trading</th>\n",
       "    </tr>\n",
       "  </thead>\n",
       "  <tbody>\n",
       "    <tr>\n",
       "      <th>1221</th>\n",
       "      <td>4</td>\n",
       "      <td>2016-12-26</td>\n",
       "      <td>43310</td>\n",
       "      <td>43660</td>\n",
       "      <td>43090</td>\n",
       "      <td>43340</td>\n",
       "      <td>358200</td>\n",
       "      <td>15547803000</td>\n",
       "    </tr>\n",
       "    <tr>\n",
       "      <th>1222</th>\n",
       "      <td>3</td>\n",
       "      <td>2016-12-27</td>\n",
       "      <td>43140</td>\n",
       "      <td>43700</td>\n",
       "      <td>43140</td>\n",
       "      <td>43620</td>\n",
       "      <td>400100</td>\n",
       "      <td>17427993000</td>\n",
       "    </tr>\n",
       "    <tr>\n",
       "      <th>1223</th>\n",
       "      <td>2</td>\n",
       "      <td>2016-12-28</td>\n",
       "      <td>43940</td>\n",
       "      <td>43970</td>\n",
       "      <td>43270</td>\n",
       "      <td>43270</td>\n",
       "      <td>339900</td>\n",
       "      <td>14780670000</td>\n",
       "    </tr>\n",
       "    <tr>\n",
       "      <th>1224</th>\n",
       "      <td>1</td>\n",
       "      <td>2016-12-29</td>\n",
       "      <td>43000</td>\n",
       "      <td>43220</td>\n",
       "      <td>42540</td>\n",
       "      <td>42660</td>\n",
       "      <td>448400</td>\n",
       "      <td>19188227000</td>\n",
       "    </tr>\n",
       "    <tr>\n",
       "      <th>1225</th>\n",
       "      <td>0</td>\n",
       "      <td>2016-12-30</td>\n",
       "      <td>42120</td>\n",
       "      <td>42330</td>\n",
       "      <td>41700</td>\n",
       "      <td>41830</td>\n",
       "      <td>610000</td>\n",
       "      <td>25628028000</td>\n",
       "    </tr>\n",
       "  </tbody>\n",
       "</table>\n",
       "</div>"
      ],
      "text/plain": [
       "      index       Date   Open   High    Low  Close  Volume  Stock Trading\n",
       "1221      4 2016-12-26  43310  43660  43090  43340  358200    15547803000\n",
       "1222      3 2016-12-27  43140  43700  43140  43620  400100    17427993000\n",
       "1223      2 2016-12-28  43940  43970  43270  43270  339900    14780670000\n",
       "1224      1 2016-12-29  43000  43220  42540  42660  448400    19188227000\n",
       "1225      0 2016-12-30  42120  42330  41700  41830  610000    25628028000"
      ]
     },
     "execution_count": 1019,
     "metadata": {},
     "output_type": "execute_result"
    }
   ],
   "source": [
    "from datetime import datetime\n",
    "import pandas as pd\n",
    "\n",
    "\n",
    "df_raw = df_raw.iloc[::-1].reset_index()\n",
    "df_raw['Date'] = df_raw['Date'].apply(lambda x: pd.to_datetime(x))\n",
    "df_raw.tail(20)\n",
    "df = df_raw\n",
    "df.tail()"
   ]
  },
  {
   "cell_type": "code",
   "execution_count": 1020,
   "metadata": {},
   "outputs": [
    {
     "data": {
      "text/plain": [
       "<bound method NDFrame.tail of       index       Date   Open   High    Low  Close   Volume  Stock Trading\n",
       "0      1225 2012-01-04  14050  14050  13700  13720   559100     7719804000\n",
       "1      1224 2012-01-05  13720  13840  13600  13800   511500     7030811000\n",
       "2      1223 2012-01-06  13990  14030  13790  13850   765500    10635609000\n",
       "3      1222 2012-01-10  13890  14390  13860  14390   952300    13533413000\n",
       "4      1221 2012-01-11  14360  14750  14280  14590  1043400    15191988000\n",
       "...     ...        ...    ...    ...    ...    ...      ...            ...\n",
       "1221      4 2016-12-26  43310  43660  43090  43340   358200    15547803000\n",
       "1222      3 2016-12-27  43140  43700  43140  43620   400100    17427993000\n",
       "1223      2 2016-12-28  43940  43970  43270  43270   339900    14780670000\n",
       "1224      1 2016-12-29  43000  43220  42540  42660   448400    19188227000\n",
       "1225      0 2016-12-30  42120  42330  41700  41830   610000    25628028000\n",
       "\n",
       "[1226 rows x 8 columns]>"
      ]
     },
     "execution_count": 1020,
     "metadata": {},
     "output_type": "execute_result"
    }
   ],
   "source": [
    "df.tail"
   ]
  },
  {
   "cell_type": "code",
   "execution_count": 1021,
   "metadata": {},
   "outputs": [],
   "source": [
    "df = df_raw['Open'].values\n",
    "df = df.reshape(-1,1)"
   ]
  },
  {
   "cell_type": "code",
   "execution_count": 1022,
   "metadata": {},
   "outputs": [
    {
     "data": {
      "text/plain": [
       "<matplotlib.axes._subplots.AxesSubplot at 0x2c6f9334ac8>"
      ]
     },
     "execution_count": 1022,
     "metadata": {},
     "output_type": "execute_result"
    },
    {
     "data": {
      "image/png": "[encoded data removed]",
      "text/plain": [
       "<Figure size 432x288 with 1 Axes>"
      ]
     },
     "metadata": {
      "needs_background": "light"
     },
     "output_type": "display_data"
    }
   ],
   "source": [
    "import seaborn as sns\n",
    "import matplotlib.pyplot as plt\n",
    "\n",
    "ax = sns.lineplot(x=df_raw['Date'], y=df_raw['Open'])\n",
    "ax"
   ]
  },
  {
   "cell_type": "code",
   "execution_count": 1023,
   "metadata": {},
   "outputs": [
    {
     "data": {
      "text/plain": [
       "1226"
      ]
     },
     "execution_count": 1023,
     "metadata": {},
     "output_type": "execute_result"
    }
   ],
   "source": [
    "len(df)"
   ]
  },
  {
   "cell_type": "code",
   "execution_count": 1024,
   "metadata": {},
   "outputs": [
    {
     "data": {
      "text/plain": [
       "1196"
      ]
     },
     "execution_count": 1024,
     "metadata": {},
     "output_type": "execute_result"
    }
   ],
   "source": [
    "len(df)-30"
   ]
  },
  {
   "cell_type": "code",
   "execution_count": 1043,
   "metadata": {},
   "outputs": [],
   "source": [
    "df_train = df[:len(df)-40]\n",
    "df_test = df[len(df_train):]"
   ]
  },
  {
   "cell_type": "code",
   "execution_count": 1044,
   "metadata": {},
   "outputs": [],
   "source": [
    "from sklearn.preprocessing import MinMaxScaler\n",
    "\n",
    "mms = MinMaxScaler()\n",
    "mms.fit(df_train)\n",
    "\n",
    "df_train_mms = mms.transform(df_train)\n",
    "df_test_mms = mms.transform(df_test)"
   ]
  },
  {
   "cell_type": "code",
   "execution_count": 1045,
   "metadata": {},
   "outputs": [
    {
     "data": {
      "text/plain": [
       "array([[0.45431737],\n",
       "       [0.45452645],\n",
       "       [0.46623458],\n",
       "       [0.48400585],\n",
       "       [0.48505122]])"
      ]
     },
     "execution_count": 1045,
     "metadata": {},
     "output_type": "execute_result"
    }
   ],
   "source": [
    "df_train_mms[:5]\n",
    "df_test_mms[:5]"
   ]
  },
  {
   "cell_type": "code",
   "execution_count": 1046,
   "metadata": {},
   "outputs": [],
   "source": [
    "def generator(df):\n",
    "    x = []\n",
    "    y = []\n",
    "    for i in range(10, df.shape[0]):\n",
    "        x.append(df[i-10:i, 0])\n",
    "        y.append(df[i, 0])\n",
    "    return x,y"
   ]
  },
  {
   "cell_type": "code",
   "execution_count": 1047,
   "metadata": {},
   "outputs": [
    {
     "data": {
      "text/plain": [
       "[array([0.00689944, 0.        , 0.00564499, 0.00355425, 0.01338072,\n",
       "        0.0167259 , 0.02132553, 0.01860757, 0.01923479, 0.02216182])]"
      ]
     },
     "execution_count": 1047,
     "metadata": {},
     "output_type": "execute_result"
    }
   ],
   "source": [
    "x_train, y_train = generator(df_train_mms)\n",
    "\n",
    "x_train[:1]"
   ]
  },
  {
   "cell_type": "code",
   "execution_count": 1048,
   "metadata": {},
   "outputs": [],
   "source": [
    "x_test, y_test = generator(df_test_mms)\n",
    "x_test[:1]\n",
    "\n",
    "x_train = np.array(x_train)\n",
    "x_test = np.array(x_test)\n",
    "\n",
    "y_train = np.array(y_train)\n",
    "y_test = np.array(y_test)"
   ]
  },
  {
   "cell_type": "code",
   "execution_count": 1049,
   "metadata": {},
   "outputs": [
    {
     "data": {
      "text/plain": [
       "((1176, 10, 1), (1176,))"
      ]
     },
     "execution_count": 1049,
     "metadata": {},
     "output_type": "execute_result"
    }
   ],
   "source": [
    "# Reshape data for LSTM Layers\n",
    "\n",
    "x_train = np.reshape(x_train, (x_train.shape[0], x_train.shape[1], 1))\n",
    "x_test = np.reshape(x_test, (x_test.shape[0], x_test.shape[1], 1))\n",
    "\n",
    "x_train.shape, y_train.shape"
   ]
  },
  {
   "cell_type": "markdown",
   "metadata": {},
   "source": [
    "### Model Building"
   ]
  },
  {
   "cell_type": "code",
   "execution_count": 1050,
   "metadata": {},
   "outputs": [],
   "source": [
    "from keras.models import Sequential\n",
    "from keras.layers import LSTM, Dense, Dropout"
   ]
  },
  {
   "cell_type": "code",
   "execution_count": 1115,
   "metadata": {},
   "outputs": [],
   "source": [
    "model = Sequential()\n",
    "model.add(LSTM(units = 100, return_sequences=True, input_shape=(x_train.shape[1],1)))\n",
    "model.add(Dropout(0.2))\n",
    "model.add(LSTM(units = 100, return_sequences=False))\n",
    "model.add(Dropout(0.2))\n",
    "model.add(Dense(1))"
   ]
  },
  {
   "cell_type": "code",
   "execution_count": 1116,
   "metadata": {},
   "outputs": [],
   "source": [
    "model.compile(loss='mean_squared_error', optimizer='adam')"
   ]
  },
  {
   "cell_type": "code",
   "execution_count": 1134,
   "metadata": {},
   "outputs": [
    {
     "name": "stdout",
     "output_type": "stream",
     "text": [
      "Epoch 1/100\n",
      "1176/1176 [==============================] - 1s 466us/step - loss: 5.2809e-04\n",
      "Epoch 2/100\n",
      "1176/1176 [==============================] - 1s 453us/step - loss: 5.4587e-04\n",
      "Epoch 3/100\n",
      "1176/1176 [==============================] - 1s 466us/step - loss: 5.6645e-04\n",
      "Epoch 4/100\n",
      "1176/1176 [==============================] - 1s 455us/step - loss: 5.6571e-04\n",
      "Epoch 5/100\n",
      "1176/1176 [==============================] - 1s 454us/step - loss: 5.3534e-04\n",
      "Epoch 6/100\n",
      "1176/1176 [==============================] - 1s 461us/step - loss: 5.6866e-04\n",
      "Epoch 7/100\n",
      "1176/1176 [==============================] - 1s 438us/step - loss: 5.5412e-04\n",
      "Epoch 8/100\n",
      "1176/1176 [==============================] - 1s 460us/step - loss: 5.0452e-04\n",
      "Epoch 9/100\n",
      "1176/1176 [==============================] - 1s 487us/step - loss: 5.1113e-04\n",
      "Epoch 10/100\n",
      "1176/1176 [==============================] - 1s 520us/step - loss: 5.9963e-04\n",
      "Epoch 11/100\n",
      "1176/1176 [==============================] - 1s 527us/step - loss: 5.3620e-04\n",
      "Epoch 12/100\n",
      "1176/1176 [==============================] - 1s 593us/step - loss: 5.4424e-04\n",
      "Epoch 13/100\n",
      "1176/1176 [==============================] - 1s 550us/step - loss: 5.1283e-04\n",
      "Epoch 14/100\n",
      "1176/1176 [==============================] - 1s 542us/step - loss: 5.6277e-04\n",
      "Epoch 15/100\n",
      "1176/1176 [==============================] - 1s 506us/step - loss: 5.4859e-04\n",
      "Epoch 16/100\n",
      "1176/1176 [==============================] - 1s 703us/step - loss: 5.5981e-04\n",
      "Epoch 17/100\n",
      "1176/1176 [==============================] - 1s 684us/step - loss: 5.5082e-04\n",
      "Epoch 18/100\n",
      "1176/1176 [==============================] - 1s 803us/step - loss: 5.4668e-04\n",
      "Epoch 19/100\n",
      "1176/1176 [==============================] - 1s 654us/step - loss: 5.6685e-04\n",
      "Epoch 20/100\n",
      "1176/1176 [==============================] - 1s 761us/step - loss: 5.2442e-04\n",
      "Epoch 21/100\n",
      "1176/1176 [==============================] - 1s 616us/step - loss: 5.6489e-04\n",
      "Epoch 22/100\n",
      "1176/1176 [==============================] - 1s 602us/step - loss: 5.4391e-04\n",
      "Epoch 23/100\n",
      "1176/1176 [==============================] - 1s 623us/step - loss: 5.6643e-04\n",
      "Epoch 24/100\n",
      "1176/1176 [==============================] - 1s 639us/step - loss: 5.4473e-04\n",
      "Epoch 25/100\n",
      "1176/1176 [==============================] - 1s 592us/step - loss: 5.3403e-04\n",
      "Epoch 26/100\n",
      "1176/1176 [==============================] - 1s 604us/step - loss: 5.9986e-04\n",
      "Epoch 27/100\n",
      "1176/1176 [==============================] - 1s 614us/step - loss: 5.4858e-04\n",
      "Epoch 28/100\n",
      "1176/1176 [==============================] - 1s 678us/step - loss: 5.5921e-04\n",
      "Epoch 29/100\n",
      "1176/1176 [==============================] - 1s 622us/step - loss: 5.7516e-04\n",
      "Epoch 30/100\n",
      "1176/1176 [==============================] - 1s 658us/step - loss: 5.5466e-04\n",
      "Epoch 31/100\n",
      "1176/1176 [==============================] - 1s 602us/step - loss: 4.8733e-04\n",
      "Epoch 32/100\n",
      "1176/1176 [==============================] - 1s 613us/step - loss: 5.4131e-04\n",
      "Epoch 33/100\n",
      "1176/1176 [==============================] - 1s 648us/step - loss: 5.0658e-04\n",
      "Epoch 34/100\n",
      "1176/1176 [==============================] - 1s 620us/step - loss: 5.8289e-04\n",
      "Epoch 35/100\n",
      "1176/1176 [==============================] - 1s 649us/step - loss: 5.5925e-04\n",
      "Epoch 36/100\n",
      "1176/1176 [==============================] - 1s 738us/step - loss: 5.6203e-04\n",
      "Epoch 37/100\n",
      "1176/1176 [==============================] - 1s 695us/step - loss: 5.6312e-04\n",
      "Epoch 38/100\n",
      "1176/1176 [==============================] - 1s 747us/step - loss: 5.5760e-04\n",
      "Epoch 39/100\n",
      "1176/1176 [==============================] - 1s 682us/step - loss: 5.3340e-04\n",
      "Epoch 40/100\n",
      "1176/1176 [==============================] - 1s 647us/step - loss: 6.1478e-04\n",
      "Epoch 41/100\n",
      "1176/1176 [==============================] - 1s 645us/step - loss: 5.9388e-04\n",
      "Epoch 42/100\n",
      "1176/1176 [==============================] - 1s 683us/step - loss: 5.1201e-04\n",
      "Epoch 43/100\n",
      "1176/1176 [==============================] - 1s 783us/step - loss: 5.3705e-04\n",
      "Epoch 44/100\n",
      "1176/1176 [==============================] - 1s 744us/step - loss: 5.4723e-04\n",
      "Epoch 45/100\n",
      "1176/1176 [==============================] - 1s 676us/step - loss: 5.1178e-04\n",
      "Epoch 46/100\n",
      "1176/1176 [==============================] - 1s 631us/step - loss: 5.7676e-04\n",
      "Epoch 47/100\n",
      "1176/1176 [==============================] - 1s 752us/step - loss: 5.7398e-04\n",
      "Epoch 48/100\n",
      "1176/1176 [==============================] - 1s 635us/step - loss: 5.6148e-04\n",
      "Epoch 49/100\n",
      "1176/1176 [==============================] - 1s 584us/step - loss: 5.2609e-04\n",
      "Epoch 50/100\n",
      "1176/1176 [==============================] - 1s 658us/step - loss: 5.2826e-04\n",
      "Epoch 51/100\n",
      "1176/1176 [==============================] - 1s 626us/step - loss: 5.2708e-04\n",
      "Epoch 52/100\n",
      "1176/1176 [==============================] - 1s 634us/step - loss: 5.3355e-04\n",
      "Epoch 53/100\n",
      "1176/1176 [==============================] - 1s 620us/step - loss: 5.9834e-04\n",
      "Epoch 54/100\n",
      "1176/1176 [==============================] - 1s 587us/step - loss: 5.4911e-04\n",
      "Epoch 55/100\n",
      "1176/1176 [==============================] - 1s 800us/step - loss: 5.4041e-04\n",
      "Epoch 56/100\n",
      "1176/1176 [==============================] - 1s 729us/step - loss: 6.0396e-04\n",
      "Epoch 57/100\n",
      "1176/1176 [==============================] - 1s 542us/step - loss: 5.3028e-04\n",
      "Epoch 58/100\n",
      "1176/1176 [==============================] - 1s 569us/step - loss: 5.6058e-04\n",
      "Epoch 59/100\n",
      "1176/1176 [==============================] - 1s 600us/step - loss: 5.1612e-04\n",
      "Epoch 60/100\n",
      "1176/1176 [==============================] - 1s 564us/step - loss: 5.3574e-04\n",
      "Epoch 61/100\n",
      "1176/1176 [==============================] - 1s 706us/step - loss: 5.5053e-04\n",
      "Epoch 62/100\n",
      "1176/1176 [==============================] - 1s 544us/step - loss: 5.2652e-04\n",
      "Epoch 63/100\n",
      "1176/1176 [==============================] - 1s 535us/step - loss: 5.0670e-04\n",
      "Epoch 64/100\n",
      "1176/1176 [==============================] - 1s 545us/step - loss: 5.2010e-04\n",
      "Epoch 65/100\n",
      "1176/1176 [==============================] - 1s 519us/step - loss: 5.1054e-04\n",
      "Epoch 66/100\n",
      "1176/1176 [==============================] - 1s 551us/step - loss: 5.3149e-04\n",
      "Epoch 67/100\n",
      "1176/1176 [==============================] - 1s 544us/step - loss: 5.3952e-04\n",
      "Epoch 68/100\n",
      "1176/1176 [==============================] - 1s 545us/step - loss: 6.0741e-04\n",
      "Epoch 69/100\n",
      "1176/1176 [==============================] - 1s 537us/step - loss: 5.8111e-04\n",
      "Epoch 70/100\n",
      "1176/1176 [==============================] - 1s 551us/step - loss: 5.5067e-04\n",
      "Epoch 71/100\n",
      "1176/1176 [==============================] - 1s 539us/step - loss: 5.4934e-04\n",
      "Epoch 72/100\n",
      "1176/1176 [==============================] - 1s 542us/step - loss: 5.3539e-04\n",
      "Epoch 73/100\n",
      "1176/1176 [==============================] - 1s 541us/step - loss: 5.2457e-04\n",
      "Epoch 74/100\n",
      "1176/1176 [==============================] - 1s 516us/step - loss: 6.2049e-04\n",
      "Epoch 75/100\n",
      "1176/1176 [==============================] - 1s 528us/step - loss: 4.9650e-04\n",
      "Epoch 76/100\n",
      "1176/1176 [==============================] - 1s 516us/step - loss: 5.3477e-04\n",
      "Epoch 77/100\n",
      "1176/1176 [==============================] - 1s 527us/step - loss: 5.2680e-04\n",
      "Epoch 78/100\n",
      "1176/1176 [==============================] - 1s 533us/step - loss: 5.5473e-04\n",
      "Epoch 79/100\n",
      "1176/1176 [==============================] - 1s 519us/step - loss: 5.4939e-04\n",
      "Epoch 80/100\n",
      "1176/1176 [==============================] - 1s 651us/step - loss: 5.3156e-04\n",
      "Epoch 81/100\n",
      "1176/1176 [==============================] - 1s 549us/step - loss: 6.2711e-04\n",
      "Epoch 82/100\n",
      "1176/1176 [==============================] - 1s 627us/step - loss: 6.1085e-04\n",
      "Epoch 83/100\n",
      "1176/1176 [==============================] - 1s 594us/step - loss: 5.2851e-04\n",
      "Epoch 84/100\n",
      "1176/1176 [==============================] - 1s 539us/step - loss: 5.1243e-04\n",
      "Epoch 85/100\n",
      "1176/1176 [==============================] - 1s 532us/step - loss: 4.9516e-04\n",
      "Epoch 86/100\n",
      "1176/1176 [==============================] - 1s 578us/step - loss: 5.2773e-04\n",
      "Epoch 87/100\n",
      "1176/1176 [==============================] - 1s 533us/step - loss: 5.2915e-04\n",
      "Epoch 88/100\n",
      "1176/1176 [==============================] - 1s 732us/step - loss: 5.0626e-04\n",
      "Epoch 89/100\n",
      "1176/1176 [==============================] - 1s 552us/step - loss: 5.3837e-04\n",
      "Epoch 90/100\n",
      "1176/1176 [==============================] - 1s 568us/step - loss: 5.5443e-04\n",
      "Epoch 91/100\n"
     ]
    },
    {
     "name": "stdout",
     "output_type": "stream",
     "text": [
      "1176/1176 [==============================] - 1s 540us/step - loss: 5.2308e-04\n",
      "Epoch 92/100\n",
      "1176/1176 [==============================] - 1s 525us/step - loss: 5.4669e-04\n",
      "Epoch 93/100\n",
      "1176/1176 [==============================] - 1s 526us/step - loss: 5.1338e-04\n",
      "Epoch 94/100\n",
      "1176/1176 [==============================] - 1s 533us/step - loss: 5.3114e-04\n",
      "Epoch 95/100\n",
      "1176/1176 [==============================] - 1s 543us/step - loss: 5.4217e-04\n",
      "Epoch 96/100\n",
      "1176/1176 [==============================] - 1s 537us/step - loss: 4.9278e-04\n",
      "Epoch 97/100\n",
      "1176/1176 [==============================] - 1s 524us/step - loss: 5.4457e-04\n",
      "Epoch 98/100\n",
      "1176/1176 [==============================] - 1s 590us/step - loss: 6.2577e-04\n",
      "Epoch 99/100\n",
      "1176/1176 [==============================] - 1s 530us/step - loss: 5.5938e-04\n",
      "Epoch 100/100\n",
      "1176/1176 [==============================] - 1s 514us/step - loss: 5.5433e-04\n"
     ]
    },
    {
     "data": {
      "text/plain": [
       "<keras.callbacks.callbacks.History at 0x2c69ab5f988>"
      ]
     },
     "execution_count": 1134,
     "metadata": {},
     "output_type": "execute_result"
    }
   ],
   "source": [
    "model.fit(x_train, y_train, epochs=100)"
   ]
  },
  {
   "cell_type": "code",
   "execution_count": 1135,
   "metadata": {},
   "outputs": [],
   "source": [
    "predictions = model.predict(x_test)\n",
    "predictions = mms.inverse_transform(predictions)"
   ]
  },
  {
   "cell_type": "code",
   "execution_count": 1136,
   "metadata": {},
   "outputs": [
    {
     "data": {
      "text/plain": [
       "array([[39185.617],\n",
       "       [39305.09 ],\n",
       "       [40035.848],\n",
       "       [40281.48 ],\n",
       "       [40019.137],\n",
       "       [41344.65 ],\n",
       "       [41884.258],\n",
       "       [41442.992],\n",
       "       [40623.94 ],\n",
       "       [40433.07 ],\n",
       "       [40601.63 ],\n",
       "       [40456.76 ],\n",
       "       [40249.188],\n",
       "       [40495.34 ],\n",
       "       [40630.324],\n",
       "       [41572.785],\n",
       "       [41821.32 ],\n",
       "       [44010.645],\n",
       "       [43266.6  ],\n",
       "       [43482.45 ],\n",
       "       [43545.906],\n",
       "       [43489.336],\n",
       "       [42977.496],\n",
       "       [43084.387],\n",
       "       [44019.67 ],\n",
       "       [43831.258],\n",
       "       [43524.51 ],\n",
       "       [43319.94 ],\n",
       "       [44062.918],\n",
       "       [43190.547]], dtype=float32)"
      ]
     },
     "execution_count": 1136,
     "metadata": {},
     "output_type": "execute_result"
    }
   ],
   "source": [
    "predictions"
   ]
  },
  {
   "cell_type": "code",
   "execution_count": 1137,
   "metadata": {},
   "outputs": [],
   "source": [
    "actual = df[len(df_train)+10:]"
   ]
  },
  {
   "cell_type": "code",
   "execution_count": 1140,
   "metadata": {},
   "outputs": [
    {
     "data": {
      "text/plain": [
       "701.7208048405472"
      ]
     },
     "execution_count": 1140,
     "metadata": {},
     "output_type": "execute_result"
    }
   ],
   "source": [
    "from sklearn.metrics import mean_squared_error\n",
    "from math import sqrt\n",
    "\n",
    "\n",
    "rms = sqrt(mean_squared_error(actual, predictions))\n",
    "rms"
   ]
  },
  {
   "cell_type": "code",
   "execution_count": 1139,
   "metadata": {},
   "outputs": [
    {
     "data": {
      "text/plain": [
       "[<matplotlib.lines.Line2D at 0x2c69abe1908>]"
      ]
     },
     "execution_count": 1139,
     "metadata": {},
     "output_type": "execute_result"
    },
    {
     "data": {
      "image/png": "[encoded data removed]",
      "text/plain": [
       "<Figure size 432x288 with 1 Axes>"
      ]
     },
     "metadata": {
      "needs_background": "light"
     },
     "output_type": "display_data"
    }
   ],
   "source": [
    "plt.plot(predictions)\n",
    "plt.plot(df[len(df_train)+10:])"
   ]
  },
  {
   "cell_type": "code",
   "execution_count": 1080,
   "metadata": {},
   "outputs": [
    {
     "data": {
      "text/plain": [
       "<matplotlib.axes._subplots.AxesSubplot at 0x2c68de73e48>"
      ]
     },
     "execution_count": 1080,
     "metadata": {},
     "output_type": "execute_result"
    },
    {
     "data": {
      "image/png": "[encoded data removed]",
      "text/plain": [
       "<Figure size 432x288 with 1 Axes>"
      ]
     },
     "metadata": {
      "needs_background": "light"
     },
     "output_type": "display_data"
    }
   ],
   "source": [
    "sns.lineplot(x='Date',y='Open',data=df_raw)\n"
   ]
  },
  {
   "cell_type": "code",
   "execution_count": 1083,
   "metadata": {},
   "outputs": [
    {
     "data": {
      "text/html": [
       "<div>\n",
       "<style scoped>\n",
       "    .dataframe tbody tr th:only-of-type {\n",
       "        vertical-align: middle;\n",
       "    }\n",
       "\n",
       "    .dataframe tbody tr th {\n",
       "        vertical-align: top;\n",
       "    }\n",
       "\n",
       "    .dataframe thead th {\n",
       "        text-align: right;\n",
       "    }\n",
       "</style>\n",
       "<table border=\"1\" class=\"dataframe\">\n",
       "  <thead>\n",
       "    <tr style=\"text-align: right;\">\n",
       "      <th></th>\n",
       "      <th>index</th>\n",
       "      <th>Date</th>\n",
       "      <th>Open</th>\n",
       "      <th>High</th>\n",
       "      <th>Low</th>\n",
       "      <th>Close</th>\n",
       "      <th>Volume</th>\n",
       "      <th>Stock Trading</th>\n",
       "    </tr>\n",
       "  </thead>\n",
       "  <tbody>\n",
       "    <tr>\n",
       "      <th>0</th>\n",
       "      <td>1225</td>\n",
       "      <td>2012-01-04</td>\n",
       "      <td>14050</td>\n",
       "      <td>14050</td>\n",
       "      <td>13700</td>\n",
       "      <td>13720</td>\n",
       "      <td>559100</td>\n",
       "      <td>7719804000</td>\n",
       "    </tr>\n",
       "    <tr>\n",
       "      <th>1</th>\n",
       "      <td>1224</td>\n",
       "      <td>2012-01-05</td>\n",
       "      <td>13720</td>\n",
       "      <td>13840</td>\n",
       "      <td>13600</td>\n",
       "      <td>13800</td>\n",
       "      <td>511500</td>\n",
       "      <td>7030811000</td>\n",
       "    </tr>\n",
       "    <tr>\n",
       "      <th>2</th>\n",
       "      <td>1223</td>\n",
       "      <td>2012-01-06</td>\n",
       "      <td>13990</td>\n",
       "      <td>14030</td>\n",
       "      <td>13790</td>\n",
       "      <td>13850</td>\n",
       "      <td>765500</td>\n",
       "      <td>10635609000</td>\n",
       "    </tr>\n",
       "    <tr>\n",
       "      <th>3</th>\n",
       "      <td>1222</td>\n",
       "      <td>2012-01-10</td>\n",
       "      <td>13890</td>\n",
       "      <td>14390</td>\n",
       "      <td>13860</td>\n",
       "      <td>14390</td>\n",
       "      <td>952300</td>\n",
       "      <td>13533413000</td>\n",
       "    </tr>\n",
       "    <tr>\n",
       "      <th>4</th>\n",
       "      <td>1221</td>\n",
       "      <td>2012-01-11</td>\n",
       "      <td>14360</td>\n",
       "      <td>14750</td>\n",
       "      <td>14280</td>\n",
       "      <td>14590</td>\n",
       "      <td>1043400</td>\n",
       "      <td>15191988000</td>\n",
       "    </tr>\n",
       "    <tr>\n",
       "      <th>...</th>\n",
       "      <td>...</td>\n",
       "      <td>...</td>\n",
       "      <td>...</td>\n",
       "      <td>...</td>\n",
       "      <td>...</td>\n",
       "      <td>...</td>\n",
       "      <td>...</td>\n",
       "      <td>...</td>\n",
       "    </tr>\n",
       "    <tr>\n",
       "      <th>1182</th>\n",
       "      <td>43</td>\n",
       "      <td>2016-10-27</td>\n",
       "      <td>36250</td>\n",
       "      <td>36370</td>\n",
       "      <td>35600</td>\n",
       "      <td>35770</td>\n",
       "      <td>426500</td>\n",
       "      <td>15291775000</td>\n",
       "    </tr>\n",
       "    <tr>\n",
       "      <th>1183</th>\n",
       "      <td>42</td>\n",
       "      <td>2016-10-28</td>\n",
       "      <td>36020</td>\n",
       "      <td>36450</td>\n",
       "      <td>35980</td>\n",
       "      <td>35980</td>\n",
       "      <td>454200</td>\n",
       "      <td>16400925000</td>\n",
       "    </tr>\n",
       "    <tr>\n",
       "      <th>1184</th>\n",
       "      <td>41</td>\n",
       "      <td>2016-10-31</td>\n",
       "      <td>35690</td>\n",
       "      <td>36030</td>\n",
       "      <td>35450</td>\n",
       "      <td>35460</td>\n",
       "      <td>344400</td>\n",
       "      <td>12260234000</td>\n",
       "    </tr>\n",
       "    <tr>\n",
       "      <th>1185</th>\n",
       "      <td>40</td>\n",
       "      <td>2016-11-01</td>\n",
       "      <td>35440</td>\n",
       "      <td>36050</td>\n",
       "      <td>35310</td>\n",
       "      <td>35890</td>\n",
       "      <td>366200</td>\n",
       "      <td>13093352000</td>\n",
       "    </tr>\n",
       "    <tr>\n",
       "      <th>1186</th>\n",
       "      <td>39</td>\n",
       "      <td>2016-11-02</td>\n",
       "      <td>35450</td>\n",
       "      <td>35940</td>\n",
       "      <td>35420</td>\n",
       "      <td>35540</td>\n",
       "      <td>396700</td>\n",
       "      <td>14154272000</td>\n",
       "    </tr>\n",
       "  </tbody>\n",
       "</table>\n",
       "<p>1187 rows × 8 columns</p>\n",
       "</div>"
      ],
      "text/plain": [
       "      index       Date   Open   High    Low  Close   Volume  Stock Trading\n",
       "0      1225 2012-01-04  14050  14050  13700  13720   559100     7719804000\n",
       "1      1224 2012-01-05  13720  13840  13600  13800   511500     7030811000\n",
       "2      1223 2012-01-06  13990  14030  13790  13850   765500    10635609000\n",
       "3      1222 2012-01-10  13890  14390  13860  14390   952300    13533413000\n",
       "4      1221 2012-01-11  14360  14750  14280  14590  1043400    15191988000\n",
       "...     ...        ...    ...    ...    ...    ...      ...            ...\n",
       "1182     43 2016-10-27  36250  36370  35600  35770   426500    15291775000\n",
       "1183     42 2016-10-28  36020  36450  35980  35980   454200    16400925000\n",
       "1184     41 2016-10-31  35690  36030  35450  35460   344400    12260234000\n",
       "1185     40 2016-11-01  35440  36050  35310  35890   366200    13093352000\n",
       "1186     39 2016-11-02  35450  35940  35420  35540   396700    14154272000\n",
       "\n",
       "[1187 rows x 8 columns]"
      ]
     },
     "execution_count": 1083,
     "metadata": {},
     "output_type": "execute_result"
    }
   ],
   "source": [
    "df_raw.loc[:len(df_train)+10,:]"
   ]
  },
  {
   "cell_type": "code",
   "execution_count": 1085,
   "metadata": {},
   "outputs": [
    {
     "data": {
      "text/html": [
       "<div>\n",
       "<style scoped>\n",
       "    .dataframe tbody tr th:only-of-type {\n",
       "        vertical-align: middle;\n",
       "    }\n",
       "\n",
       "    .dataframe tbody tr th {\n",
       "        vertical-align: top;\n",
       "    }\n",
       "\n",
       "    .dataframe thead th {\n",
       "        text-align: right;\n",
       "    }\n",
       "</style>\n",
       "<table border=\"1\" class=\"dataframe\">\n",
       "  <thead>\n",
       "    <tr style=\"text-align: right;\">\n",
       "      <th></th>\n",
       "      <th>index</th>\n",
       "      <th>Date</th>\n",
       "      <th>Open</th>\n",
       "      <th>High</th>\n",
       "      <th>Low</th>\n",
       "      <th>Close</th>\n",
       "      <th>Volume</th>\n",
       "      <th>Stock Trading</th>\n",
       "    </tr>\n",
       "  </thead>\n",
       "  <tbody>\n",
       "    <tr>\n",
       "      <th>1196</th>\n",
       "      <td>29</td>\n",
       "      <td>2016-11-17</td>\n",
       "      <td>39200</td>\n",
       "      <td>39710</td>\n",
       "      <td>39050</td>\n",
       "      <td>39280</td>\n",
       "      <td>573700</td>\n",
       "      <td>22579532000</td>\n",
       "    </tr>\n",
       "    <tr>\n",
       "      <th>1197</th>\n",
       "      <td>28</td>\n",
       "      <td>2016-11-18</td>\n",
       "      <td>39980</td>\n",
       "      <td>40620</td>\n",
       "      <td>39900</td>\n",
       "      <td>40190</td>\n",
       "      <td>886500</td>\n",
       "      <td>35703144000</td>\n",
       "    </tr>\n",
       "    <tr>\n",
       "      <th>1198</th>\n",
       "      <td>27</td>\n",
       "      <td>2016-11-21</td>\n",
       "      <td>40210</td>\n",
       "      <td>40270</td>\n",
       "      <td>39510</td>\n",
       "      <td>39970</td>\n",
       "      <td>609600</td>\n",
       "      <td>24304570000</td>\n",
       "    </tr>\n",
       "    <tr>\n",
       "      <th>1199</th>\n",
       "      <td>26</td>\n",
       "      <td>2016-11-22</td>\n",
       "      <td>39880</td>\n",
       "      <td>40360</td>\n",
       "      <td>39660</td>\n",
       "      <td>40360</td>\n",
       "      <td>500200</td>\n",
       "      <td>20073907000</td>\n",
       "    </tr>\n",
       "    <tr>\n",
       "      <th>1200</th>\n",
       "      <td>25</td>\n",
       "      <td>2016-11-24</td>\n",
       "      <td>41300</td>\n",
       "      <td>41760</td>\n",
       "      <td>41170</td>\n",
       "      <td>41730</td>\n",
       "      <td>692900</td>\n",
       "      <td>28790748000</td>\n",
       "    </tr>\n",
       "    <tr>\n",
       "      <th>1201</th>\n",
       "      <td>24</td>\n",
       "      <td>2016-11-25</td>\n",
       "      <td>41820</td>\n",
       "      <td>42020</td>\n",
       "      <td>41220</td>\n",
       "      <td>41370</td>\n",
       "      <td>665500</td>\n",
       "      <td>27635591000</td>\n",
       "    </tr>\n",
       "    <tr>\n",
       "      <th>1202</th>\n",
       "      <td>23</td>\n",
       "      <td>2016-11-28</td>\n",
       "      <td>41260</td>\n",
       "      <td>41440</td>\n",
       "      <td>40830</td>\n",
       "      <td>41260</td>\n",
       "      <td>384800</td>\n",
       "      <td>15844055000</td>\n",
       "    </tr>\n",
       "    <tr>\n",
       "      <th>1203</th>\n",
       "      <td>22</td>\n",
       "      <td>2016-11-29</td>\n",
       "      <td>40420</td>\n",
       "      <td>40580</td>\n",
       "      <td>40100</td>\n",
       "      <td>40200</td>\n",
       "      <td>894400</td>\n",
       "      <td>36013470000</td>\n",
       "    </tr>\n",
       "    <tr>\n",
       "      <th>1204</th>\n",
       "      <td>21</td>\n",
       "      <td>2016-11-30</td>\n",
       "      <td>40300</td>\n",
       "      <td>40340</td>\n",
       "      <td>39570</td>\n",
       "      <td>39570</td>\n",
       "      <td>692200</td>\n",
       "      <td>27596077000</td>\n",
       "    </tr>\n",
       "    <tr>\n",
       "      <th>1205</th>\n",
       "      <td>20</td>\n",
       "      <td>2016-12-01</td>\n",
       "      <td>40500</td>\n",
       "      <td>41190</td>\n",
       "      <td>40320</td>\n",
       "      <td>40460</td>\n",
       "      <td>850700</td>\n",
       "      <td>34630369000</td>\n",
       "    </tr>\n",
       "    <tr>\n",
       "      <th>1206</th>\n",
       "      <td>19</td>\n",
       "      <td>2016-12-02</td>\n",
       "      <td>40300</td>\n",
       "      <td>40660</td>\n",
       "      <td>39960</td>\n",
       "      <td>40660</td>\n",
       "      <td>573000</td>\n",
       "      <td>23117924000</td>\n",
       "    </tr>\n",
       "    <tr>\n",
       "      <th>1207</th>\n",
       "      <td>18</td>\n",
       "      <td>2016-12-05</td>\n",
       "      <td>40060</td>\n",
       "      <td>40350</td>\n",
       "      <td>39690</td>\n",
       "      <td>39760</td>\n",
       "      <td>620500</td>\n",
       "      <td>24756974000</td>\n",
       "    </tr>\n",
       "    <tr>\n",
       "      <th>1208</th>\n",
       "      <td>17</td>\n",
       "      <td>2016-12-06</td>\n",
       "      <td>40350</td>\n",
       "      <td>40500</td>\n",
       "      <td>39860</td>\n",
       "      <td>40150</td>\n",
       "      <td>618100</td>\n",
       "      <td>24820835000</td>\n",
       "    </tr>\n",
       "    <tr>\n",
       "      <th>1209</th>\n",
       "      <td>16</td>\n",
       "      <td>2016-12-07</td>\n",
       "      <td>40500</td>\n",
       "      <td>41150</td>\n",
       "      <td>40420</td>\n",
       "      <td>40870</td>\n",
       "      <td>536800</td>\n",
       "      <td>21935649000</td>\n",
       "    </tr>\n",
       "    <tr>\n",
       "      <th>1210</th>\n",
       "      <td>15</td>\n",
       "      <td>2016-12-08</td>\n",
       "      <td>41480</td>\n",
       "      <td>41560</td>\n",
       "      <td>40830</td>\n",
       "      <td>41100</td>\n",
       "      <td>639900</td>\n",
       "      <td>26310776000</td>\n",
       "    </tr>\n",
       "    <tr>\n",
       "      <th>1211</th>\n",
       "      <td>14</td>\n",
       "      <td>2016-12-09</td>\n",
       "      <td>41700</td>\n",
       "      <td>42970</td>\n",
       "      <td>41150</td>\n",
       "      <td>42590</td>\n",
       "      <td>1975600</td>\n",
       "      <td>83251556000</td>\n",
       "    </tr>\n",
       "    <tr>\n",
       "      <th>1212</th>\n",
       "      <td>13</td>\n",
       "      <td>2016-12-12</td>\n",
       "      <td>43950</td>\n",
       "      <td>44000</td>\n",
       "      <td>42880</td>\n",
       "      <td>43130</td>\n",
       "      <td>775300</td>\n",
       "      <td>33633233000</td>\n",
       "    </tr>\n",
       "    <tr>\n",
       "      <th>1213</th>\n",
       "      <td>12</td>\n",
       "      <td>2016-12-13</td>\n",
       "      <td>43130</td>\n",
       "      <td>43300</td>\n",
       "      <td>42630</td>\n",
       "      <td>43210</td>\n",
       "      <td>434500</td>\n",
       "      <td>18658982000</td>\n",
       "    </tr>\n",
       "    <tr>\n",
       "      <th>1214</th>\n",
       "      <td>11</td>\n",
       "      <td>2016-12-14</td>\n",
       "      <td>43300</td>\n",
       "      <td>43440</td>\n",
       "      <td>42590</td>\n",
       "      <td>43090</td>\n",
       "      <td>548800</td>\n",
       "      <td>23600236000</td>\n",
       "    </tr>\n",
       "    <tr>\n",
       "      <th>1215</th>\n",
       "      <td>10</td>\n",
       "      <td>2016-12-15</td>\n",
       "      <td>43440</td>\n",
       "      <td>43880</td>\n",
       "      <td>42550</td>\n",
       "      <td>43000</td>\n",
       "      <td>627400</td>\n",
       "      <td>27055034000</td>\n",
       "    </tr>\n",
       "    <tr>\n",
       "      <th>1216</th>\n",
       "      <td>9</td>\n",
       "      <td>2016-12-16</td>\n",
       "      <td>43350</td>\n",
       "      <td>43550</td>\n",
       "      <td>42810</td>\n",
       "      <td>43130</td>\n",
       "      <td>542000</td>\n",
       "      <td>23380606000</td>\n",
       "    </tr>\n",
       "    <tr>\n",
       "      <th>1217</th>\n",
       "      <td>8</td>\n",
       "      <td>2016-12-19</td>\n",
       "      <td>42790</td>\n",
       "      <td>43150</td>\n",
       "      <td>42740</td>\n",
       "      <td>43130</td>\n",
       "      <td>358700</td>\n",
       "      <td>15428531000</td>\n",
       "    </tr>\n",
       "    <tr>\n",
       "      <th>1218</th>\n",
       "      <td>7</td>\n",
       "      <td>2016-12-20</td>\n",
       "      <td>42910</td>\n",
       "      <td>43630</td>\n",
       "      <td>42860</td>\n",
       "      <td>43620</td>\n",
       "      <td>499400</td>\n",
       "      <td>21606102000</td>\n",
       "    </tr>\n",
       "    <tr>\n",
       "      <th>1219</th>\n",
       "      <td>6</td>\n",
       "      <td>2016-12-21</td>\n",
       "      <td>43900</td>\n",
       "      <td>44370</td>\n",
       "      <td>43610</td>\n",
       "      <td>44000</td>\n",
       "      <td>658900</td>\n",
       "      <td>28994316000</td>\n",
       "    </tr>\n",
       "    <tr>\n",
       "      <th>1220</th>\n",
       "      <td>5</td>\n",
       "      <td>2016-12-22</td>\n",
       "      <td>43660</td>\n",
       "      <td>43840</td>\n",
       "      <td>43190</td>\n",
       "      <td>43480</td>\n",
       "      <td>381600</td>\n",
       "      <td>16586491000</td>\n",
       "    </tr>\n",
       "    <tr>\n",
       "      <th>1221</th>\n",
       "      <td>4</td>\n",
       "      <td>2016-12-26</td>\n",
       "      <td>43310</td>\n",
       "      <td>43660</td>\n",
       "      <td>43090</td>\n",
       "      <td>43340</td>\n",
       "      <td>358200</td>\n",
       "      <td>15547803000</td>\n",
       "    </tr>\n",
       "    <tr>\n",
       "      <th>1222</th>\n",
       "      <td>3</td>\n",
       "      <td>2016-12-27</td>\n",
       "      <td>43140</td>\n",
       "      <td>43700</td>\n",
       "      <td>43140</td>\n",
       "      <td>43620</td>\n",
       "      <td>400100</td>\n",
       "      <td>17427993000</td>\n",
       "    </tr>\n",
       "    <tr>\n",
       "      <th>1223</th>\n",
       "      <td>2</td>\n",
       "      <td>2016-12-28</td>\n",
       "      <td>43940</td>\n",
       "      <td>43970</td>\n",
       "      <td>43270</td>\n",
       "      <td>43270</td>\n",
       "      <td>339900</td>\n",
       "      <td>14780670000</td>\n",
       "    </tr>\n",
       "    <tr>\n",
       "      <th>1224</th>\n",
       "      <td>1</td>\n",
       "      <td>2016-12-29</td>\n",
       "      <td>43000</td>\n",
       "      <td>43220</td>\n",
       "      <td>42540</td>\n",
       "      <td>42660</td>\n",
       "      <td>448400</td>\n",
       "      <td>19188227000</td>\n",
       "    </tr>\n",
       "    <tr>\n",
       "      <th>1225</th>\n",
       "      <td>0</td>\n",
       "      <td>2016-12-30</td>\n",
       "      <td>42120</td>\n",
       "      <td>42330</td>\n",
       "      <td>41700</td>\n",
       "      <td>41830</td>\n",
       "      <td>610000</td>\n",
       "      <td>25628028000</td>\n",
       "    </tr>\n",
       "  </tbody>\n",
       "</table>\n",
       "</div>"
      ],
      "text/plain": [
       "      index       Date   Open   High    Low  Close   Volume  Stock Trading\n",
       "1196     29 2016-11-17  39200  39710  39050  39280   573700    22579532000\n",
       "1197     28 2016-11-18  39980  40620  39900  40190   886500    35703144000\n",
       "1198     27 2016-11-21  40210  40270  39510  39970   609600    24304570000\n",
       "1199     26 2016-11-22  39880  40360  39660  40360   500200    20073907000\n",
       "1200     25 2016-11-24  41300  41760  41170  41730   692900    28790748000\n",
       "1201     24 2016-11-25  41820  42020  41220  41370   665500    27635591000\n",
       "1202     23 2016-11-28  41260  41440  40830  41260   384800    15844055000\n",
       "1203     22 2016-11-29  40420  40580  40100  40200   894400    36013470000\n",
       "1204     21 2016-11-30  40300  40340  39570  39570   692200    27596077000\n",
       "1205     20 2016-12-01  40500  41190  40320  40460   850700    34630369000\n",
       "1206     19 2016-12-02  40300  40660  39960  40660   573000    23117924000\n",
       "1207     18 2016-12-05  40060  40350  39690  39760   620500    24756974000\n",
       "1208     17 2016-12-06  40350  40500  39860  40150   618100    24820835000\n",
       "1209     16 2016-12-07  40500  41150  40420  40870   536800    21935649000\n",
       "1210     15 2016-12-08  41480  41560  40830  41100   639900    26310776000\n",
       "1211     14 2016-12-09  41700  42970  41150  42590  1975600    83251556000\n",
       "1212     13 2016-12-12  43950  44000  42880  43130   775300    33633233000\n",
       "1213     12 2016-12-13  43130  43300  42630  43210   434500    18658982000\n",
       "1214     11 2016-12-14  43300  43440  42590  43090   548800    23600236000\n",
       "1215     10 2016-12-15  43440  43880  42550  43000   627400    27055034000\n",
       "1216      9 2016-12-16  43350  43550  42810  43130   542000    23380606000\n",
       "1217      8 2016-12-19  42790  43150  42740  43130   358700    15428531000\n",
       "1218      7 2016-12-20  42910  43630  42860  43620   499400    21606102000\n",
       "1219      6 2016-12-21  43900  44370  43610  44000   658900    28994316000\n",
       "1220      5 2016-12-22  43660  43840  43190  43480   381600    16586491000\n",
       "1221      4 2016-12-26  43310  43660  43090  43340   358200    15547803000\n",
       "1222      3 2016-12-27  43140  43700  43140  43620   400100    17427993000\n",
       "1223      2 2016-12-28  43940  43970  43270  43270   339900    14780670000\n",
       "1224      1 2016-12-29  43000  43220  42540  42660   448400    19188227000\n",
       "1225      0 2016-12-30  42120  42330  41700  41830   610000    25628028000"
      ]
     },
     "execution_count": 1085,
     "metadata": {},
     "output_type": "execute_result"
    }
   ],
   "source": [
    "df_raw.loc[len(df_train)+10:,:]"
   ]
  },
  {
   "cell_type": "code",
   "execution_count": null,
   "metadata": {},
   "outputs": [],
   "source": []
  }
 ],
 "metadata": {
  "kernelspec": {
   "display_name": "Python 3",
   "language": "python",
   "name": "python3"
  },
  "language_info": {
   "codemirror_mode": {
    "name": "ipython",
    "version": 3
   },
   "file_extension": ".py",
   "mimetype": "text/x-python",
   "name": "python",
   "nbconvert_exporter": "python",
   "pygments_lexer": "ipython3",
   "version": "3.7.6"
  }
 },
 "nbformat": 4,
 "nbformat_minor": 4
}
